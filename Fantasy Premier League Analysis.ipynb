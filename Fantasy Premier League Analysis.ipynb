{
 "cells": [
  {
   "cell_type": "markdown",
   "metadata": {},
   "source": [
    "## Fantasy Premier League Analysis"
   ]
  },
  {
   "cell_type": "markdown",
   "metadata": {},
   "source": [
    "### Introduction\n",
    "\n",
    "Inspired by the best rank in 9 FPL Seasons and motivated by an almost top 100K finish, this project seeks to explore insights that would land \"Nene's Ballerz\" a top 90K rank next season (24/25).  Ultimately, through this notebook we'll parse out data from an FPL API for managers (team) data and gameweek details from the previous season (23/24) in a bid to highlight decisions that were enabling and the ones that show areas of improvement. This is the first notebook in a series that will later include player analysis (for captain picks, squad vs bench selection), league (and specific minileague) analysis that will be actively maintained in the next season 2024-2025.\n",
    "\n",
    "References\n",
    "\n",
    "- https://gist.githubusercontent.com/James-Leslie/82abbb4c6808321b0cf8c801a84ff22e/raw/9b5a238a52159d8e856adcc2aa18a734b9178561/FPL-endpoints.csv"
   ]
  },
  {
   "cell_type": "markdown",
   "metadata": {},
   "source": [
    "### Objective\n",
    "Analyze last season's (2024-2025) team performance to highlight costly decisions in raking up best possible points."
   ]
  },
  {
   "cell_type": "markdown",
   "metadata": {},
   "source": [
    "### Approach\n",
    "1. Parse out data from the FPL APIs\n",
    "2. Piece together an individual manager's team, adding supporting game week events\n",
    "3. Analyze hypotheses: \n",
    "    - The average team had a better week by week performance than the studied team\n",
    "    - The chips usage did not yield significant returns in the given game week\n",
    "    - Points left on bench were not significant for the respective game weeks\n",
    "4. Summarize Findings"
   ]
  },
  {
   "cell_type": "markdown",
   "metadata": {},
   "source": [
    "### Set Up"
   ]
  },
  {
   "cell_type": "code",
   "execution_count": 1,
   "metadata": {},
   "outputs": [],
   "source": [
    "### Import necessary libraries\n",
    "import os\n",
    "import pandas as pd\n",
    "import requests\n",
    "import json\n",
    "from pprint import pprint\n",
    "import matplotlib.pyplot as plt\n",
    "import seaborn as sns\n",
    "import matplotlib.ticker as ticker"
   ]
  },
  {
   "cell_type": "markdown",
   "metadata": {},
   "source": [
    "### Scraping FPL data from API"
   ]
  },
  {
   "cell_type": "code",
   "execution_count": 2,
   "metadata": {},
   "outputs": [
    {
     "name": "stdout",
     "output_type": "stream",
     "text": [
      "{ 'element_stats': [...],\n",
      "  'element_types': [...],\n",
      "  'elements': [...],\n",
      "  'events': [...],\n",
      "  'game_settings': {...},\n",
      "  'phases': [...],\n",
      "  'teams': [...],\n",
      "  'total_players': 10905021}\n"
     ]
    }
   ],
   "source": [
    "## base_url for all FPL API endpoints\n",
    "base_url = 'https://fantasy.premierleague.com/api/'\n",
    "\n",
    "## get data from the end-point\n",
    "r = requests.get(base_url+'bootstrap-static/').json()\n",
    "\n",
    "## inspect top level fields\n",
    "pprint(r, indent=2,depth=1,compact=True)"
   ]
  },
  {
   "cell_type": "code",
   "execution_count": 3,
   "metadata": {},
   "outputs": [
    {
     "name": "stdout",
     "output_type": "stream",
     "text": [
      "{'average_entry_score': 64,\n",
      " 'chip_plays': [{'chip_name': 'bboost', 'num_played': 163222},\n",
      "                {'chip_name': '3xc', 'num_played': 287198}],\n",
      " 'cup_leagues_created': False,\n",
      " 'data_checked': True,\n",
      " 'deadline_time': '2023-08-11T17:30:00Z',\n",
      " 'deadline_time_epoch': 1691775000,\n",
      " 'deadline_time_game_offset': 0,\n",
      " 'finished': True,\n",
      " 'h2h_ko_matches_created': False,\n",
      " 'highest_score': 127,\n",
      " 'highest_scoring_entry': 3383750,\n",
      " 'id': 1,\n",
      " 'is_current': False,\n",
      " 'is_next': False,\n",
      " 'is_previous': False,\n",
      " 'most_captained': 355,\n",
      " 'most_selected': 355,\n",
      " 'most_transferred_in': 1,\n",
      " 'most_vice_captained': 19,\n",
      " 'name': 'Gameweek 1',\n",
      " 'ranked_count': 0,\n",
      " 'release_time': None,\n",
      " 'top_element': 395,\n",
      " 'top_element_info': {'id': 395, 'points': 14},\n",
      " 'transfers_made': 0}\n"
     ]
    }
   ],
   "source": [
    "### managers by gameweek\n",
    "#total_managers = r['total_players']\n",
    "\n",
    "### gameweek events\n",
    "game_weeks  = r['events']\n",
    "\n",
    "pprint(game_weeks[0])\n",
    "\n"
   ]
  },
  {
   "cell_type": "code",
   "execution_count": 4,
   "metadata": {},
   "outputs": [],
   "source": [
    "### pull gameweek events\n",
    "game_week_details = pd.json_normalize(r['events'])\n"
   ]
  },
  {
   "cell_type": "code",
   "execution_count": 5,
   "metadata": {},
   "outputs": [
    {
     "data": {
      "text/plain": [
       "Index(['id', 'name', 'deadline_time', 'release_time', 'average_entry_score',\n",
       "       'finished', 'data_checked', 'highest_scoring_entry',\n",
       "       'deadline_time_epoch', 'deadline_time_game_offset', 'highest_score',\n",
       "       'is_previous', 'is_current', 'is_next', 'cup_leagues_created',\n",
       "       'h2h_ko_matches_created', 'ranked_count', 'chip_plays', 'most_selected',\n",
       "       'most_transferred_in', 'top_element', 'transfers_made',\n",
       "       'most_captained', 'most_vice_captained', 'top_element_info.id',\n",
       "       'top_element_info.points'],\n",
       "      dtype='object')"
      ]
     },
     "execution_count": 5,
     "metadata": {},
     "output_type": "execute_result"
    }
   ],
   "source": [
    "game_week_details.columns\n"
   ]
  },
  {
   "cell_type": "code",
   "execution_count": 6,
   "metadata": {},
   "outputs": [
    {
     "data": {
      "text/plain": [
       "True    38\n",
       "Name: data_checked, dtype: int64"
      ]
     },
     "execution_count": 6,
     "metadata": {},
     "output_type": "execute_result"
    }
   ],
   "source": [
    "### confirm all gw have been checked\n",
    "game_week_details['data_checked'].value_counts()"
   ]
  },
  {
   "cell_type": "code",
   "execution_count": 7,
   "metadata": {},
   "outputs": [
    {
     "data": {
      "text/html": [
       "<div>\n",
       "<style scoped>\n",
       "    .dataframe tbody tr th:only-of-type {\n",
       "        vertical-align: middle;\n",
       "    }\n",
       "\n",
       "    .dataframe tbody tr th {\n",
       "        vertical-align: top;\n",
       "    }\n",
       "\n",
       "    .dataframe thead th {\n",
       "        text-align: right;\n",
       "    }\n",
       "</style>\n",
       "<table border=\"1\" class=\"dataframe\">\n",
       "  <thead>\n",
       "    <tr style=\"text-align: right;\">\n",
       "      <th></th>\n",
       "      <th>id</th>\n",
       "      <th>name</th>\n",
       "      <th>average_entry_score</th>\n",
       "      <th>highest_score</th>\n",
       "    </tr>\n",
       "  </thead>\n",
       "  <tbody>\n",
       "    <tr>\n",
       "      <th>0</th>\n",
       "      <td>1</td>\n",
       "      <td>Gameweek 1</td>\n",
       "      <td>64</td>\n",
       "      <td>127</td>\n",
       "    </tr>\n",
       "    <tr>\n",
       "      <th>1</th>\n",
       "      <td>2</td>\n",
       "      <td>Gameweek 2</td>\n",
       "      <td>44</td>\n",
       "      <td>120</td>\n",
       "    </tr>\n",
       "    <tr>\n",
       "      <th>2</th>\n",
       "      <td>3</td>\n",
       "      <td>Gameweek 3</td>\n",
       "      <td>44</td>\n",
       "      <td>128</td>\n",
       "    </tr>\n",
       "    <tr>\n",
       "      <th>3</th>\n",
       "      <td>4</td>\n",
       "      <td>Gameweek 4</td>\n",
       "      <td>72</td>\n",
       "      <td>148</td>\n",
       "    </tr>\n",
       "    <tr>\n",
       "      <th>4</th>\n",
       "      <td>5</td>\n",
       "      <td>Gameweek 5</td>\n",
       "      <td>44</td>\n",
       "      <td>102</td>\n",
       "    </tr>\n",
       "  </tbody>\n",
       "</table>\n",
       "</div>"
      ],
      "text/plain": [
       "   id        name  average_entry_score  highest_score\n",
       "0   1  Gameweek 1                   64            127\n",
       "1   2  Gameweek 2                   44            120\n",
       "2   3  Gameweek 3                   44            128\n",
       "3   4  Gameweek 4                   72            148\n",
       "4   5  Gameweek 5                   44            102"
      ]
     },
     "execution_count": 7,
     "metadata": {},
     "output_type": "execute_result"
    }
   ],
   "source": [
    "### select key columns\n",
    "columns_to_keep = ['id','name','average_entry_score','highest_score']\n",
    "game_week_details = game_week_details[columns_to_keep]\n",
    "game_week_details.head()"
   ]
  },
  {
   "cell_type": "markdown",
   "metadata": {},
   "source": [
    "### Individual Team Analysis"
   ]
  },
  {
   "cell_type": "code",
   "execution_count": 8,
   "metadata": {},
   "outputs": [],
   "source": [
    "#### write a function that inputs team id and outputs season points per gw and rank\n",
    "\n",
    "def get_manager_past_seasons_perf(manager_id):\n",
    "    '''get manager's season performance'''\n",
    "    ### run get request\n",
    "    r = requests.get(\n",
    "        base_url + 'entry/' + str(manager_id) + '/history/'\n",
    "    ).json()\n",
    "    df = pd.json_normalize(r['past'])\n",
    "    \n",
    "    df['manager_id'] = manager_id\n",
    "    return df"
   ]
  },
  {
   "cell_type": "code",
   "execution_count": 9,
   "metadata": {},
   "outputs": [
    {
     "data": {
      "text/html": [
       "<div>\n",
       "<style scoped>\n",
       "    .dataframe tbody tr th:only-of-type {\n",
       "        vertical-align: middle;\n",
       "    }\n",
       "\n",
       "    .dataframe tbody tr th {\n",
       "        vertical-align: top;\n",
       "    }\n",
       "\n",
       "    .dataframe thead th {\n",
       "        text-align: right;\n",
       "    }\n",
       "</style>\n",
       "<table border=\"1\" class=\"dataframe\">\n",
       "  <thead>\n",
       "    <tr style=\"text-align: right;\">\n",
       "      <th></th>\n",
       "      <th>index</th>\n",
       "      <th>manager_id</th>\n",
       "      <th>season_name</th>\n",
       "      <th>total_points</th>\n",
       "      <th>rank</th>\n",
       "    </tr>\n",
       "  </thead>\n",
       "  <tbody>\n",
       "    <tr>\n",
       "      <th>8</th>\n",
       "      <td>8</td>\n",
       "      <td>5152606</td>\n",
       "      <td>2023/24</td>\n",
       "      <td>2474</td>\n",
       "      <td>124788</td>\n",
       "    </tr>\n",
       "    <tr>\n",
       "      <th>7</th>\n",
       "      <td>7</td>\n",
       "      <td>5152606</td>\n",
       "      <td>2022/23</td>\n",
       "      <td>2498</td>\n",
       "      <td>176797</td>\n",
       "    </tr>\n",
       "    <tr>\n",
       "      <th>6</th>\n",
       "      <td>6</td>\n",
       "      <td>5152606</td>\n",
       "      <td>2021/22</td>\n",
       "      <td>2176</td>\n",
       "      <td>1355901</td>\n",
       "    </tr>\n",
       "    <tr>\n",
       "      <th>5</th>\n",
       "      <td>5</td>\n",
       "      <td>5152606</td>\n",
       "      <td>2020/21</td>\n",
       "      <td>1922</td>\n",
       "      <td>3376635</td>\n",
       "    </tr>\n",
       "    <tr>\n",
       "      <th>4</th>\n",
       "      <td>4</td>\n",
       "      <td>5152606</td>\n",
       "      <td>2019/20</td>\n",
       "      <td>1928</td>\n",
       "      <td>2742516</td>\n",
       "    </tr>\n",
       "    <tr>\n",
       "      <th>3</th>\n",
       "      <td>3</td>\n",
       "      <td>5152606</td>\n",
       "      <td>2018/19</td>\n",
       "      <td>1888</td>\n",
       "      <td>3224944</td>\n",
       "    </tr>\n",
       "    <tr>\n",
       "      <th>2</th>\n",
       "      <td>2</td>\n",
       "      <td>5152606</td>\n",
       "      <td>2017/18</td>\n",
       "      <td>1590</td>\n",
       "      <td>4304749</td>\n",
       "    </tr>\n",
       "    <tr>\n",
       "      <th>1</th>\n",
       "      <td>1</td>\n",
       "      <td>5152606</td>\n",
       "      <td>2016/17</td>\n",
       "      <td>1494</td>\n",
       "      <td>3531285</td>\n",
       "    </tr>\n",
       "    <tr>\n",
       "      <th>0</th>\n",
       "      <td>0</td>\n",
       "      <td>5152606</td>\n",
       "      <td>2013/14</td>\n",
       "      <td>1896</td>\n",
       "      <td>1419205</td>\n",
       "    </tr>\n",
       "  </tbody>\n",
       "</table>\n",
       "</div>"
      ],
      "text/plain": [
       "   index  manager_id season_name  total_points     rank\n",
       "8      8     5152606     2023/24          2474   124788\n",
       "7      7     5152606     2022/23          2498   176797\n",
       "6      6     5152606     2021/22          2176  1355901\n",
       "5      5     5152606     2020/21          1922  3376635\n",
       "4      4     5152606     2019/20          1928  2742516\n",
       "3      3     5152606     2018/19          1888  3224944\n",
       "2      2     5152606     2017/18          1590  4304749\n",
       "1      1     5152606     2016/17          1494  3531285\n",
       "0      0     5152606     2013/14          1896  1419205"
      ]
     },
     "execution_count": 9,
     "metadata": {},
     "output_type": "execute_result"
    }
   ],
   "source": [
    "### run function on a specific manager's team to get previous season stats\n",
    "get_manager_past_seasons_perf(5152606)[['manager_id','season_name','total_points','rank']].reset_index().sort_values(by = 'season_name', ascending = False)\n",
    "\n"
   ]
  },
  {
   "cell_type": "code",
   "execution_count": 10,
   "metadata": {},
   "outputs": [],
   "source": [
    "### write a function that inputs manager id and outputs GW points for entire season alongside chips \n",
    "\n",
    "def get_gw_points(manager_id):\n",
    "    '''get a manager's past season history'''\n",
    "    r = requests.get(\n",
    "        base_url + 'entry/'+ str(manager_id)+'/history/'\n",
    "    ).json()\n",
    "    df = pd.json_normalize(r['current'])\n",
    "    dt = pd.json_normalize(r['chips']).rename(columns={'name':'chip_used'})#,'event':'game_week'\n",
    "    dft = df.merge(dt,on='event', how='left')\n",
    "    dft['manager_id'] = manager_id\n",
    "    dft['chip_used'].fillna('none',inplace=True)\n",
    "\n",
    "\n",
    "    return dft\n",
    "   "
   ]
  },
  {
   "cell_type": "code",
   "execution_count": 11,
   "metadata": {},
   "outputs": [
    {
     "data": {
      "text/html": [
       "<div>\n",
       "<style scoped>\n",
       "    .dataframe tbody tr th:only-of-type {\n",
       "        vertical-align: middle;\n",
       "    }\n",
       "\n",
       "    .dataframe tbody tr th {\n",
       "        vertical-align: top;\n",
       "    }\n",
       "\n",
       "    .dataframe thead th {\n",
       "        text-align: right;\n",
       "    }\n",
       "</style>\n",
       "<table border=\"1\" class=\"dataframe\">\n",
       "  <thead>\n",
       "    <tr style=\"text-align: right;\">\n",
       "      <th></th>\n",
       "      <th>index</th>\n",
       "      <th>event</th>\n",
       "      <th>points</th>\n",
       "      <th>total_points</th>\n",
       "      <th>points_on_bench</th>\n",
       "      <th>chip_used</th>\n",
       "      <th>event_transfers</th>\n",
       "      <th>event_transfers_cost</th>\n",
       "      <th>rank</th>\n",
       "      <th>overall_rank</th>\n",
       "      <th>percentile_rank</th>\n",
       "      <th>bank</th>\n",
       "      <th>value</th>\n",
       "    </tr>\n",
       "  </thead>\n",
       "  <tbody>\n",
       "    <tr>\n",
       "      <th>0</th>\n",
       "      <td>0</td>\n",
       "      <td>1</td>\n",
       "      <td>75</td>\n",
       "      <td>75</td>\n",
       "      <td>15</td>\n",
       "      <td>none</td>\n",
       "      <td>0</td>\n",
       "      <td>0</td>\n",
       "      <td>1648468</td>\n",
       "      <td>1648468</td>\n",
       "      <td>NaN</td>\n",
       "      <td>5</td>\n",
       "      <td>1000</td>\n",
       "    </tr>\n",
       "    <tr>\n",
       "      <th>1</th>\n",
       "      <td>1</td>\n",
       "      <td>2</td>\n",
       "      <td>49</td>\n",
       "      <td>124</td>\n",
       "      <td>2</td>\n",
       "      <td>none</td>\n",
       "      <td>1</td>\n",
       "      <td>0</td>\n",
       "      <td>3142665</td>\n",
       "      <td>1745184</td>\n",
       "      <td>NaN</td>\n",
       "      <td>0</td>\n",
       "      <td>1002</td>\n",
       "    </tr>\n",
       "    <tr>\n",
       "      <th>2</th>\n",
       "      <td>2</td>\n",
       "      <td>3</td>\n",
       "      <td>60</td>\n",
       "      <td>176</td>\n",
       "      <td>7</td>\n",
       "      <td>none</td>\n",
       "      <td>3</td>\n",
       "      <td>8</td>\n",
       "      <td>806267</td>\n",
       "      <td>1258116</td>\n",
       "      <td>NaN</td>\n",
       "      <td>4</td>\n",
       "      <td>1007</td>\n",
       "    </tr>\n",
       "    <tr>\n",
       "      <th>3</th>\n",
       "      <td>3</td>\n",
       "      <td>4</td>\n",
       "      <td>84</td>\n",
       "      <td>260</td>\n",
       "      <td>2</td>\n",
       "      <td>none</td>\n",
       "      <td>1</td>\n",
       "      <td>0</td>\n",
       "      <td>1439976</td>\n",
       "      <td>666287</td>\n",
       "      <td>NaN</td>\n",
       "      <td>4</td>\n",
       "      <td>1012</td>\n",
       "    </tr>\n",
       "    <tr>\n",
       "      <th>4</th>\n",
       "      <td>4</td>\n",
       "      <td>5</td>\n",
       "      <td>51</td>\n",
       "      <td>311</td>\n",
       "      <td>10</td>\n",
       "      <td>none</td>\n",
       "      <td>0</td>\n",
       "      <td>0</td>\n",
       "      <td>2124361</td>\n",
       "      <td>408068</td>\n",
       "      <td>NaN</td>\n",
       "      <td>4</td>\n",
       "      <td>1014</td>\n",
       "    </tr>\n",
       "  </tbody>\n",
       "</table>\n",
       "</div>"
      ],
      "text/plain": [
       "   index  event  points  total_points  points_on_bench chip_used  \\\n",
       "0      0      1      75            75               15      none   \n",
       "1      1      2      49           124                2      none   \n",
       "2      2      3      60           176                7      none   \n",
       "3      3      4      84           260                2      none   \n",
       "4      4      5      51           311               10      none   \n",
       "\n",
       "   event_transfers  event_transfers_cost     rank  overall_rank  \\\n",
       "0                0                     0  1648468       1648468   \n",
       "1                1                     0  3142665       1745184   \n",
       "2                3                     8   806267       1258116   \n",
       "3                1                     0  1439976        666287   \n",
       "4                0                     0  2124361        408068   \n",
       "\n",
       "   percentile_rank  bank  value  \n",
       "0              NaN     5   1000  \n",
       "1              NaN     0   1002  \n",
       "2              NaN     4   1007  \n",
       "3              NaN     4   1012  \n",
       "4              NaN     4   1014  "
      ]
     },
     "execution_count": 11,
     "metadata": {},
     "output_type": "execute_result"
    }
   ],
   "source": [
    "### print a specific manager's points for the most recent season\n",
    "nenes_ballerz = get_gw_points(5152606)[['event','points','total_points','points_on_bench','chip_used','event_transfers','event_transfers_cost','rank','overall_rank','percentile_rank','bank','value']].reset_index().sort_values(by = 'event',ascending=True)\n",
    "nenes_ballerz.head()"
   ]
  },
  {
   "cell_type": "markdown",
   "metadata": {},
   "source": [
    "### Test Hypotheses"
   ]
  },
  {
   "cell_type": "markdown",
   "metadata": {},
   "source": [
    "#### Rank by Gameweek"
   ]
  },
  {
   "cell_type": "code",
   "execution_count": 12,
   "metadata": {},
   "outputs": [
    {
     "name": "stdout",
     "output_type": "stream",
     "text": [
      "10905021\n"
     ]
    }
   ],
   "source": [
    "### get total managers in the season\n",
    "total_managers = r['total_players']\n",
    "\n",
    "pprint(total_managers)#.head()"
   ]
  },
  {
   "cell_type": "code",
   "execution_count": 13,
   "metadata": {},
   "outputs": [
    {
     "data": {
      "text/html": [
       "<div>\n",
       "<style scoped>\n",
       "    .dataframe tbody tr th:only-of-type {\n",
       "        vertical-align: middle;\n",
       "    }\n",
       "\n",
       "    .dataframe tbody tr th {\n",
       "        vertical-align: top;\n",
       "    }\n",
       "\n",
       "    .dataframe thead th {\n",
       "        text-align: right;\n",
       "    }\n",
       "</style>\n",
       "<table border=\"1\" class=\"dataframe\">\n",
       "  <thead>\n",
       "    <tr style=\"text-align: right;\">\n",
       "      <th></th>\n",
       "      <th>index</th>\n",
       "      <th>event</th>\n",
       "      <th>points</th>\n",
       "      <th>total_points</th>\n",
       "      <th>points_on_bench</th>\n",
       "      <th>chip_used</th>\n",
       "      <th>event_transfers</th>\n",
       "      <th>event_transfers_cost</th>\n",
       "      <th>rank</th>\n",
       "      <th>overall_rank</th>\n",
       "      <th>percentile_rank</th>\n",
       "      <th>bank</th>\n",
       "      <th>value</th>\n",
       "      <th>total_managers</th>\n",
       "      <th>rank_over_managers</th>\n",
       "    </tr>\n",
       "  </thead>\n",
       "  <tbody>\n",
       "    <tr>\n",
       "      <th>0</th>\n",
       "      <td>0</td>\n",
       "      <td>1</td>\n",
       "      <td>75</td>\n",
       "      <td>75</td>\n",
       "      <td>15</td>\n",
       "      <td>none</td>\n",
       "      <td>0</td>\n",
       "      <td>0</td>\n",
       "      <td>1648468</td>\n",
       "      <td>1648468</td>\n",
       "      <td>NaN</td>\n",
       "      <td>5</td>\n",
       "      <td>1000</td>\n",
       "      <td>10905021</td>\n",
       "      <td>0.151166</td>\n",
       "    </tr>\n",
       "    <tr>\n",
       "      <th>1</th>\n",
       "      <td>1</td>\n",
       "      <td>2</td>\n",
       "      <td>49</td>\n",
       "      <td>124</td>\n",
       "      <td>2</td>\n",
       "      <td>none</td>\n",
       "      <td>1</td>\n",
       "      <td>0</td>\n",
       "      <td>3142665</td>\n",
       "      <td>1745184</td>\n",
       "      <td>NaN</td>\n",
       "      <td>0</td>\n",
       "      <td>1002</td>\n",
       "      <td>10905021</td>\n",
       "      <td>0.160035</td>\n",
       "    </tr>\n",
       "    <tr>\n",
       "      <th>2</th>\n",
       "      <td>2</td>\n",
       "      <td>3</td>\n",
       "      <td>60</td>\n",
       "      <td>176</td>\n",
       "      <td>7</td>\n",
       "      <td>none</td>\n",
       "      <td>3</td>\n",
       "      <td>8</td>\n",
       "      <td>806267</td>\n",
       "      <td>1258116</td>\n",
       "      <td>NaN</td>\n",
       "      <td>4</td>\n",
       "      <td>1007</td>\n",
       "      <td>10905021</td>\n",
       "      <td>0.115370</td>\n",
       "    </tr>\n",
       "    <tr>\n",
       "      <th>3</th>\n",
       "      <td>3</td>\n",
       "      <td>4</td>\n",
       "      <td>84</td>\n",
       "      <td>260</td>\n",
       "      <td>2</td>\n",
       "      <td>none</td>\n",
       "      <td>1</td>\n",
       "      <td>0</td>\n",
       "      <td>1439976</td>\n",
       "      <td>666287</td>\n",
       "      <td>NaN</td>\n",
       "      <td>4</td>\n",
       "      <td>1012</td>\n",
       "      <td>10905021</td>\n",
       "      <td>0.061099</td>\n",
       "    </tr>\n",
       "    <tr>\n",
       "      <th>4</th>\n",
       "      <td>4</td>\n",
       "      <td>5</td>\n",
       "      <td>51</td>\n",
       "      <td>311</td>\n",
       "      <td>10</td>\n",
       "      <td>none</td>\n",
       "      <td>0</td>\n",
       "      <td>0</td>\n",
       "      <td>2124361</td>\n",
       "      <td>408068</td>\n",
       "      <td>NaN</td>\n",
       "      <td>4</td>\n",
       "      <td>1014</td>\n",
       "      <td>10905021</td>\n",
       "      <td>0.037420</td>\n",
       "    </tr>\n",
       "  </tbody>\n",
       "</table>\n",
       "</div>"
      ],
      "text/plain": [
       "   index  event  points  total_points  points_on_bench chip_used  \\\n",
       "0      0      1      75            75               15      none   \n",
       "1      1      2      49           124                2      none   \n",
       "2      2      3      60           176                7      none   \n",
       "3      3      4      84           260                2      none   \n",
       "4      4      5      51           311               10      none   \n",
       "\n",
       "   event_transfers  event_transfers_cost     rank  overall_rank  \\\n",
       "0                0                     0  1648468       1648468   \n",
       "1                1                     0  3142665       1745184   \n",
       "2                3                     8   806267       1258116   \n",
       "3                1                     0  1439976        666287   \n",
       "4                0                     0  2124361        408068   \n",
       "\n",
       "   percentile_rank  bank  value  total_managers  rank_over_managers  \n",
       "0              NaN     5   1000        10905021            0.151166  \n",
       "1              NaN     0   1002        10905021            0.160035  \n",
       "2              NaN     4   1007        10905021            0.115370  \n",
       "3              NaN     4   1012        10905021            0.061099  \n",
       "4              NaN     4   1014        10905021            0.037420  "
      ]
     },
     "execution_count": 13,
     "metadata": {},
     "output_type": "execute_result"
    }
   ],
   "source": [
    "### add total managers\n",
    "nenes_ballerz['total_managers'] = total_managers \n",
    "\n",
    "## compute rank to total managers ratio\n",
    "nenes_ballerz['rank_over_managers'] = nenes_ballerz['overall_rank']/nenes_ballerz['total_managers']\n",
    "\n",
    "nenes_ballerz.head()"
   ]
  },
  {
   "cell_type": "markdown",
   "metadata": {},
   "source": [
    "#### Team rank Over the Game Weeks"
   ]
  },
  {
   "cell_type": "code",
   "execution_count": 14,
   "metadata": {},
   "outputs": [
    {
     "data": {
      "text/plain": [
       "Text(0, 0.5, 'Rank')"
      ]
     },
     "execution_count": 14,
     "metadata": {},
     "output_type": "execute_result"
    },
    {
     "data": {
      "image/png": "[encoded data removed]",
      "text/plain": [
       "<Figure size 1200x700 with 1 Axes>"
      ]
     },
     "metadata": {},
     "output_type": "display_data"
    }
   ],
   "source": [
    "### plot rank by GW \n",
    "#rank_by_GW = nenes_ballerz['overall_rank'].value_counts().sort_index(by)\n",
    "\n",
    "plt.figure(figsize=(12,7))\n",
    "\n",
    "## invert y axis values\n",
    "#nenes_ballerz['rank_over_managers_inverted'] = nenes_ballerz['rank_over_managers'].max() - nenes_ballerz['rank_over_managers']\n",
    "\n",
    "ax = sns.lineplot(data = nenes_ballerz,x='event',y='overall_rank',color = 'red',linewidth = 3)\n",
    "ax.yaxis.set_major_formatter(ticker.FuncFormatter(lambda x,pos: '{:,.0f}'.format(x)))\n",
    "\n",
    "## invert y axis\n",
    "ax.invert_yaxis()\n",
    "\n",
    "x = nenes_ballerz['event']\n",
    "y = nenes_ballerz['overall_rank']\n",
    "\n",
    "# Add data labels to the start, mid, and end points\n",
    "\n",
    "plt.annotate(f'Start: ({x.iloc[0]}, {y.iloc[0]:,.0f})', xy=(x.iloc[0], y.iloc[0]), xytext=(x.iloc[0], y.iloc[0] - 50))\n",
    "plt.annotate(f'Mid: ({x.iloc[len(x) // 2-1]}, {y.iloc[len(y) // 2-1]:,.0f})', xy=(x.iloc[len(x) // 2-1], y.iloc[len(y) // 2-1]), \n",
    "             xytext=(x.iloc[len(x) // 2-1], y.iloc[len(y) // 2-1] - 50)\n",
    "             )\n",
    "plt.annotate(f'End: ({x.iloc[-1]}, {y.iloc[-1]:,.0f})', xy=(x.iloc[-1], y.iloc[-1]), xytext=(x.iloc[-1], y.iloc[-1] - 50)\n",
    "             )\n",
    "\n",
    "\n",
    "ax.set_title('Overall Rank by Gameweek')\n",
    "ax.set_xlabel('Gameweek')\n",
    "ax.set_ylabel('Rank')\n"
   ]
  },
  {
   "cell_type": "code",
   "execution_count": 15,
   "metadata": {},
   "outputs": [],
   "source": [
    "### merge gameweek details to managers' team gw performance\n",
    "nenes_ballerz = pd.merge(left =nenes_ballerz ,right=game_week_details,left_on='event',right_on='id',how='left').rename(columns={'average_entry_score':'average_score'})\n",
    "\n",
    "### calculate the difference from average\n",
    "nenes_ballerz['diff_from_avg'] = nenes_ballerz['points'] - nenes_ballerz['average_score'] \n",
    "#nenes_ballerz.head()"
   ]
  },
  {
   "cell_type": "markdown",
   "metadata": {},
   "source": [
    "#### Breakout Chips Usage"
   ]
  },
  {
   "cell_type": "code",
   "execution_count": 16,
   "metadata": {},
   "outputs": [
    {
     "data": {
      "text/html": [
       "<div>\n",
       "<style scoped>\n",
       "    .dataframe tbody tr th:only-of-type {\n",
       "        vertical-align: middle;\n",
       "    }\n",
       "\n",
       "    .dataframe tbody tr th {\n",
       "        vertical-align: top;\n",
       "    }\n",
       "\n",
       "    .dataframe thead th {\n",
       "        text-align: right;\n",
       "    }\n",
       "</style>\n",
       "<table border=\"1\" class=\"dataframe\">\n",
       "  <thead>\n",
       "    <tr style=\"text-align: right;\">\n",
       "      <th></th>\n",
       "      <th>name</th>\n",
       "      <th>points</th>\n",
       "      <th>average_score</th>\n",
       "      <th>diff_from_avg</th>\n",
       "      <th>chip_used</th>\n",
       "    </tr>\n",
       "  </thead>\n",
       "  <tbody>\n",
       "    <tr>\n",
       "      <th>9</th>\n",
       "      <td>Gameweek 10</td>\n",
       "      <td>79</td>\n",
       "      <td>66</td>\n",
       "      <td>13</td>\n",
       "      <td>wildcard</td>\n",
       "    </tr>\n",
       "    <tr>\n",
       "      <th>24</th>\n",
       "      <td>Gameweek 25</td>\n",
       "      <td>91</td>\n",
       "      <td>73</td>\n",
       "      <td>18</td>\n",
       "      <td>3xc</td>\n",
       "    </tr>\n",
       "    <tr>\n",
       "      <th>28</th>\n",
       "      <td>Gameweek 29</td>\n",
       "      <td>26</td>\n",
       "      <td>12</td>\n",
       "      <td>14</td>\n",
       "      <td>freehit</td>\n",
       "    </tr>\n",
       "    <tr>\n",
       "      <th>33</th>\n",
       "      <td>Gameweek 34</td>\n",
       "      <td>122</td>\n",
       "      <td>76</td>\n",
       "      <td>46</td>\n",
       "      <td>bboost</td>\n",
       "    </tr>\n",
       "    <tr>\n",
       "      <th>36</th>\n",
       "      <td>Gameweek 37</td>\n",
       "      <td>113</td>\n",
       "      <td>83</td>\n",
       "      <td>30</td>\n",
       "      <td>wildcard</td>\n",
       "    </tr>\n",
       "  </tbody>\n",
       "</table>\n",
       "</div>"
      ],
      "text/plain": [
       "           name  points  average_score  diff_from_avg chip_used\n",
       "9   Gameweek 10      79             66             13  wildcard\n",
       "24  Gameweek 25      91             73             18       3xc\n",
       "28  Gameweek 29      26             12             14   freehit\n",
       "33  Gameweek 34     122             76             46    bboost\n",
       "36  Gameweek 37     113             83             30  wildcard"
      ]
     },
     "execution_count": 16,
     "metadata": {},
     "output_type": "execute_result"
    }
   ],
   "source": [
    "\n",
    "### analyze chips and influence on points relative to average points\n",
    "chips_usage = nenes_ballerz[nenes_ballerz['chip_used']!='none']\n",
    "cols = ['name','points','average_score','diff_from_avg','chip_used']\n",
    "chips_usage = chips_usage[cols]\n",
    "chips_usage"
   ]
  },
  {
   "cell_type": "code",
   "execution_count": 17,
   "metadata": {},
   "outputs": [
    {
     "data": {
      "text/html": [
       "<div>\n",
       "<style scoped>\n",
       "    .dataframe tbody tr th:only-of-type {\n",
       "        vertical-align: middle;\n",
       "    }\n",
       "\n",
       "    .dataframe tbody tr th {\n",
       "        vertical-align: top;\n",
       "    }\n",
       "\n",
       "    .dataframe thead th {\n",
       "        text-align: right;\n",
       "    }\n",
       "</style>\n",
       "<table border=\"1\" class=\"dataframe\">\n",
       "  <thead>\n",
       "    <tr style=\"text-align: right;\">\n",
       "      <th></th>\n",
       "      <th>points</th>\n",
       "      <th>average_score</th>\n",
       "      <th>diff_from_avg</th>\n",
       "    </tr>\n",
       "  </thead>\n",
       "  <tbody>\n",
       "    <tr>\n",
       "      <th>count</th>\n",
       "      <td>5.000000</td>\n",
       "      <td>5.000000</td>\n",
       "      <td>5.000000</td>\n",
       "    </tr>\n",
       "    <tr>\n",
       "      <th>mean</th>\n",
       "      <td>86.200000</td>\n",
       "      <td>62.000000</td>\n",
       "      <td>24.200000</td>\n",
       "    </tr>\n",
       "    <tr>\n",
       "      <th>std</th>\n",
       "      <td>37.745198</td>\n",
       "      <td>28.609439</td>\n",
       "      <td>13.935566</td>\n",
       "    </tr>\n",
       "    <tr>\n",
       "      <th>min</th>\n",
       "      <td>26.000000</td>\n",
       "      <td>12.000000</td>\n",
       "      <td>13.000000</td>\n",
       "    </tr>\n",
       "    <tr>\n",
       "      <th>25%</th>\n",
       "      <td>79.000000</td>\n",
       "      <td>66.000000</td>\n",
       "      <td>14.000000</td>\n",
       "    </tr>\n",
       "    <tr>\n",
       "      <th>50%</th>\n",
       "      <td>91.000000</td>\n",
       "      <td>73.000000</td>\n",
       "      <td>18.000000</td>\n",
       "    </tr>\n",
       "    <tr>\n",
       "      <th>75%</th>\n",
       "      <td>113.000000</td>\n",
       "      <td>76.000000</td>\n",
       "      <td>30.000000</td>\n",
       "    </tr>\n",
       "    <tr>\n",
       "      <th>max</th>\n",
       "      <td>122.000000</td>\n",
       "      <td>83.000000</td>\n",
       "      <td>46.000000</td>\n",
       "    </tr>\n",
       "  </tbody>\n",
       "</table>\n",
       "</div>"
      ],
      "text/plain": [
       "           points  average_score  diff_from_avg\n",
       "count    5.000000       5.000000       5.000000\n",
       "mean    86.200000      62.000000      24.200000\n",
       "std     37.745198      28.609439      13.935566\n",
       "min     26.000000      12.000000      13.000000\n",
       "25%     79.000000      66.000000      14.000000\n",
       "50%     91.000000      73.000000      18.000000\n",
       "75%    113.000000      76.000000      30.000000\n",
       "max    122.000000      83.000000      46.000000"
      ]
     },
     "execution_count": 17,
     "metadata": {},
     "output_type": "execute_result"
    }
   ],
   "source": [
    "# pull stats on chips usage\n",
    "chips_usage.describe()"
   ]
  },
  {
   "cell_type": "code",
   "execution_count": 18,
   "metadata": {},
   "outputs": [
    {
     "data": {
      "text/plain": [
       "count    38.000000\n",
       "mean      8.447368\n",
       "std       6.599334\n",
       "min       0.000000\n",
       "25%       3.250000\n",
       "50%       7.500000\n",
       "75%      11.750000\n",
       "max      31.000000\n",
       "Name: points_on_bench, dtype: float64"
      ]
     },
     "execution_count": 18,
     "metadata": {},
     "output_type": "execute_result"
    }
   ],
   "source": [
    "### break out points on bench\n",
    "nenes_ballerz['points_on_bench'].describe()"
   ]
  },
  {
   "cell_type": "markdown",
   "metadata": {},
   "source": [
    "#### Breakout Points on Bench"
   ]
  },
  {
   "cell_type": "code",
   "execution_count": 19,
   "metadata": {},
   "outputs": [
    {
     "data": {
      "text/html": [
       "<div>\n",
       "<style scoped>\n",
       "    .dataframe tbody tr th:only-of-type {\n",
       "        vertical-align: middle;\n",
       "    }\n",
       "\n",
       "    .dataframe tbody tr th {\n",
       "        vertical-align: top;\n",
       "    }\n",
       "\n",
       "    .dataframe thead th {\n",
       "        text-align: right;\n",
       "    }\n",
       "</style>\n",
       "<table border=\"1\" class=\"dataframe\">\n",
       "  <thead>\n",
       "    <tr style=\"text-align: right;\">\n",
       "      <th></th>\n",
       "      <th>points</th>\n",
       "      <th>average_score</th>\n",
       "      <th>points_on_bench</th>\n",
       "      <th>name</th>\n",
       "    </tr>\n",
       "  </thead>\n",
       "  <tbody>\n",
       "    <tr>\n",
       "      <th>22</th>\n",
       "      <td>68</td>\n",
       "      <td>57</td>\n",
       "      <td>31</td>\n",
       "      <td>Gameweek 23</td>\n",
       "    </tr>\n",
       "  </tbody>\n",
       "</table>\n",
       "</div>"
      ],
      "text/plain": [
       "    points  average_score  points_on_bench         name\n",
       "22      68             57               31  Gameweek 23"
      ]
     },
     "execution_count": 19,
     "metadata": {},
     "output_type": "execute_result"
    }
   ],
   "source": [
    "### pull out the gameweeks with min and max points on bench\n",
    "### max points on bench\n",
    "max_points_on_bench = nenes_ballerz['points_on_bench'].max()  \n",
    "points_on_bench_gw_mx = nenes_ballerz.loc[nenes_ballerz['points_on_bench']==max_points_on_bench,['points','average_score','points_on_bench','name']]\n",
    "\n",
    "points_on_bench_gw_mx"
   ]
  },
  {
   "cell_type": "code",
   "execution_count": 20,
   "metadata": {},
   "outputs": [
    {
     "data": {
      "text/html": [
       "<div>\n",
       "<style scoped>\n",
       "    .dataframe tbody tr th:only-of-type {\n",
       "        vertical-align: middle;\n",
       "    }\n",
       "\n",
       "    .dataframe tbody tr th {\n",
       "        vertical-align: top;\n",
       "    }\n",
       "\n",
       "    .dataframe thead th {\n",
       "        text-align: right;\n",
       "    }\n",
       "</style>\n",
       "<table border=\"1\" class=\"dataframe\">\n",
       "  <thead>\n",
       "    <tr style=\"text-align: right;\">\n",
       "      <th></th>\n",
       "      <th>points</th>\n",
       "      <th>average_score</th>\n",
       "      <th>points_on_bench</th>\n",
       "      <th>name</th>\n",
       "      <th>points_left_over_gannered</th>\n",
       "    </tr>\n",
       "  </thead>\n",
       "  <tbody>\n",
       "    <tr>\n",
       "      <th>22</th>\n",
       "      <td>68</td>\n",
       "      <td>57</td>\n",
       "      <td>31</td>\n",
       "      <td>Gameweek 23</td>\n",
       "      <td>0.455882</td>\n",
       "    </tr>\n",
       "  </tbody>\n",
       "</table>\n",
       "</div>"
      ],
      "text/plain": [
       "    points  average_score  points_on_bench         name  \\\n",
       "22      68             57               31  Gameweek 23   \n",
       "\n",
       "    points_left_over_gannered  \n",
       "22                   0.455882  "
      ]
     },
     "execution_count": 20,
     "metadata": {},
     "output_type": "execute_result"
    }
   ],
   "source": [
    "points_on_bench_gw_mx['points_left_over_gannered'] = points_on_bench_gw_mx['points_on_bench']/points_on_bench_gw_mx['points']\n",
    "points_on_bench_gw_mx"
   ]
  },
  {
   "cell_type": "code",
   "execution_count": 21,
   "metadata": {},
   "outputs": [
    {
     "data": {
      "text/html": [
       "<div>\n",
       "<style scoped>\n",
       "    .dataframe tbody tr th:only-of-type {\n",
       "        vertical-align: middle;\n",
       "    }\n",
       "\n",
       "    .dataframe tbody tr th {\n",
       "        vertical-align: top;\n",
       "    }\n",
       "\n",
       "    .dataframe thead th {\n",
       "        text-align: right;\n",
       "    }\n",
       "</style>\n",
       "<table border=\"1\" class=\"dataframe\">\n",
       "  <thead>\n",
       "    <tr style=\"text-align: right;\">\n",
       "      <th></th>\n",
       "      <th>points</th>\n",
       "      <th>average_score</th>\n",
       "      <th>points_on_bench</th>\n",
       "      <th>name</th>\n",
       "    </tr>\n",
       "  </thead>\n",
       "  <tbody>\n",
       "    <tr>\n",
       "      <th>16</th>\n",
       "      <td>65</td>\n",
       "      <td>44</td>\n",
       "      <td>0</td>\n",
       "      <td>Gameweek 17</td>\n",
       "    </tr>\n",
       "    <tr>\n",
       "      <th>33</th>\n",
       "      <td>122</td>\n",
       "      <td>76</td>\n",
       "      <td>0</td>\n",
       "      <td>Gameweek 34</td>\n",
       "    </tr>\n",
       "    <tr>\n",
       "      <th>34</th>\n",
       "      <td>66</td>\n",
       "      <td>52</td>\n",
       "      <td>0</td>\n",
       "      <td>Gameweek 35</td>\n",
       "    </tr>\n",
       "  </tbody>\n",
       "</table>\n",
       "</div>"
      ],
      "text/plain": [
       "    points  average_score  points_on_bench         name\n",
       "16      65             44                0  Gameweek 17\n",
       "33     122             76                0  Gameweek 34\n",
       "34      66             52                0  Gameweek 35"
      ]
     },
     "execution_count": 21,
     "metadata": {},
     "output_type": "execute_result"
    }
   ],
   "source": [
    "### min points on bench\n",
    "min_points_on_bench = nenes_ballerz['points_on_bench'].min()\n",
    "points_on_bench_gw_mn = nenes_ballerz.loc[nenes_ballerz['points_on_bench']==min_points_on_bench,['points','average_score','points_on_bench','name']]\n",
    "points_on_bench_gw_mn"
   ]
  },
  {
   "cell_type": "markdown",
   "metadata": {},
   "source": [
    "#### Breakdown Transfers"
   ]
  },
  {
   "cell_type": "code",
   "execution_count": 22,
   "metadata": {},
   "outputs": [
    {
     "data": {
      "text/html": [
       "<div>\n",
       "<style scoped>\n",
       "    .dataframe tbody tr th:only-of-type {\n",
       "        vertical-align: middle;\n",
       "    }\n",
       "\n",
       "    .dataframe tbody tr th {\n",
       "        vertical-align: top;\n",
       "    }\n",
       "\n",
       "    .dataframe thead th {\n",
       "        text-align: right;\n",
       "    }\n",
       "</style>\n",
       "<table border=\"1\" class=\"dataframe\">\n",
       "  <thead>\n",
       "    <tr style=\"text-align: right;\">\n",
       "      <th></th>\n",
       "      <th>index</th>\n",
       "      <th>name</th>\n",
       "      <th>points</th>\n",
       "      <th>diff_from_avg</th>\n",
       "      <th>bank</th>\n",
       "      <th>event_transfers</th>\n",
       "      <th>event_transfers_cost</th>\n",
       "    </tr>\n",
       "  </thead>\n",
       "  <tbody>\n",
       "    <tr>\n",
       "      <th>7</th>\n",
       "      <td>10</td>\n",
       "      <td>Gameweek 11</td>\n",
       "      <td>22</td>\n",
       "      <td>-10</td>\n",
       "      <td>4</td>\n",
       "      <td>0</td>\n",
       "      <td>0</td>\n",
       "    </tr>\n",
       "    <tr>\n",
       "      <th>9</th>\n",
       "      <td>12</td>\n",
       "      <td>Gameweek 13</td>\n",
       "      <td>46</td>\n",
       "      <td>0</td>\n",
       "      <td>7</td>\n",
       "      <td>1</td>\n",
       "      <td>0</td>\n",
       "    </tr>\n",
       "    <tr>\n",
       "      <th>11</th>\n",
       "      <td>14</td>\n",
       "      <td>Gameweek 15</td>\n",
       "      <td>37</td>\n",
       "      <td>2</td>\n",
       "      <td>7</td>\n",
       "      <td>1</td>\n",
       "      <td>0</td>\n",
       "    </tr>\n",
       "    <tr>\n",
       "      <th>15</th>\n",
       "      <td>18</td>\n",
       "      <td>Gameweek 19</td>\n",
       "      <td>41</td>\n",
       "      <td>3</td>\n",
       "      <td>41</td>\n",
       "      <td>0</td>\n",
       "      <td>0</td>\n",
       "    </tr>\n",
       "    <tr>\n",
       "      <th>28</th>\n",
       "      <td>31</td>\n",
       "      <td>Gameweek 32</td>\n",
       "      <td>59</td>\n",
       "      <td>3</td>\n",
       "      <td>15</td>\n",
       "      <td>0</td>\n",
       "      <td>0</td>\n",
       "    </tr>\n",
       "    <tr>\n",
       "      <th>29</th>\n",
       "      <td>32</td>\n",
       "      <td>Gameweek 33</td>\n",
       "      <td>63</td>\n",
       "      <td>5</td>\n",
       "      <td>34</td>\n",
       "      <td>2</td>\n",
       "      <td>0</td>\n",
       "    </tr>\n",
       "    <tr>\n",
       "      <th>3</th>\n",
       "      <td>4</td>\n",
       "      <td>Gameweek 5</td>\n",
       "      <td>51</td>\n",
       "      <td>7</td>\n",
       "      <td>4</td>\n",
       "      <td>0</td>\n",
       "      <td>0</td>\n",
       "    </tr>\n",
       "    <tr>\n",
       "      <th>10</th>\n",
       "      <td>13</td>\n",
       "      <td>Gameweek 14</td>\n",
       "      <td>61</td>\n",
       "      <td>7</td>\n",
       "      <td>11</td>\n",
       "      <td>2</td>\n",
       "      <td>0</td>\n",
       "    </tr>\n",
       "    <tr>\n",
       "      <th>26</th>\n",
       "      <td>29</td>\n",
       "      <td>Gameweek 30</td>\n",
       "      <td>56</td>\n",
       "      <td>9</td>\n",
       "      <td>12</td>\n",
       "      <td>1</td>\n",
       "      <td>0</td>\n",
       "    </tr>\n",
       "    <tr>\n",
       "      <th>22</th>\n",
       "      <td>25</td>\n",
       "      <td>Gameweek 26</td>\n",
       "      <td>56</td>\n",
       "      <td>10</td>\n",
       "      <td>18</td>\n",
       "      <td>1</td>\n",
       "      <td>0</td>\n",
       "    </tr>\n",
       "  </tbody>\n",
       "</table>\n",
       "</div>"
      ],
      "text/plain": [
       "    index         name  points  diff_from_avg  bank  event_transfers  \\\n",
       "7      10  Gameweek 11      22            -10     4                0   \n",
       "9      12  Gameweek 13      46              0     7                1   \n",
       "11     14  Gameweek 15      37              2     7                1   \n",
       "15     18  Gameweek 19      41              3    41                0   \n",
       "28     31  Gameweek 32      59              3    15                0   \n",
       "29     32  Gameweek 33      63              5    34                2   \n",
       "3       4   Gameweek 5      51              7     4                0   \n",
       "10     13  Gameweek 14      61              7    11                2   \n",
       "26     29  Gameweek 30      56              9    12                1   \n",
       "22     25  Gameweek 26      56             10    18                1   \n",
       "\n",
       "    event_transfers_cost  \n",
       "7                      0  \n",
       "9                      0  \n",
       "11                     0  \n",
       "15                     0  \n",
       "28                     0  \n",
       "29                     0  \n",
       "3                      0  \n",
       "10                     0  \n",
       "26                     0  \n",
       "22                     0  "
      ]
     },
     "execution_count": 22,
     "metadata": {},
     "output_type": "execute_result"
    }
   ],
   "source": [
    "### transfers analysis\n",
    "transfer_deets = ['name','points','diff_from_avg','bank','event_transfers','event_transfers_cost']\n",
    "\n",
    "\n",
    "transfers_made = nenes_ballerz[transfer_deets]\n",
    "transfers_made = transfers_made.loc[transfers_made['bank']>0]\n",
    "transfers_made.reset_index().sort_values(by='diff_from_avg',ascending=True).head(10)\n"
   ]
  },
  {
   "cell_type": "markdown",
   "metadata": {},
   "source": [
    "#### Team Points by Highest Score"
   ]
  },
  {
   "cell_type": "code",
   "execution_count": 23,
   "metadata": {},
   "outputs": [
    {
     "data": {
      "text/plain": [
       "Text(0.5, 0, 'Game Week')"
      ]
     },
     "execution_count": 23,
     "metadata": {},
     "output_type": "execute_result"
    },
    {
     "data": {
      "image/png": "[encoded data removed]",
      "text/plain": [
       "<Figure size 1200x700 with 1 Axes>"
      ]
     },
     "metadata": {},
     "output_type": "display_data"
    }
   ],
   "source": [
    "### plot team score vs highest score\n",
    "\n",
    "## set bar width\n",
    "bar_width = 0.50\n",
    "\n",
    "## set positions of the bar\n",
    "r1 = range(len(nenes_ballerz['points']))\n",
    "r2 = [x + bar_width for x in r1]\n",
    "\n",
    "## create the plot\n",
    "plt.figure(figsize=(12,7))\n",
    "\n",
    "## make the bar plot\n",
    "plt.bar(r1, nenes_ballerz['points'],color = 'red',width=bar_width,edgecolor = 'grey',label = 'Team Points')\n",
    "plt.bar(r2,nenes_ballerz['highest_score'],color = 'blue',width=bar_width,edgecolor = 'grey',label = 'Highest Score')\n",
    "\n",
    "plt.legend()\n",
    "plt.title('Team Points by Highest Score')\n",
    "plt.ylabel('Points')\n",
    "plt.xlabel('Game Week')\n"
   ]
  },
  {
   "cell_type": "code",
   "execution_count": 24,
   "metadata": {},
   "outputs": [
    {
     "data": {
      "text/html": [
       "<div>\n",
       "<style scoped>\n",
       "    .dataframe tbody tr th:only-of-type {\n",
       "        vertical-align: middle;\n",
       "    }\n",
       "\n",
       "    .dataframe tbody tr th {\n",
       "        vertical-align: top;\n",
       "    }\n",
       "\n",
       "    .dataframe thead th {\n",
       "        text-align: right;\n",
       "    }\n",
       "</style>\n",
       "<table border=\"1\" class=\"dataframe\">\n",
       "  <thead>\n",
       "    <tr style=\"text-align: right;\">\n",
       "      <th></th>\n",
       "      <th>name</th>\n",
       "      <th>points</th>\n",
       "      <th>highest_score</th>\n",
       "      <th>diff_from_highest</th>\n",
       "      <th>diff_from_avg</th>\n",
       "    </tr>\n",
       "  </thead>\n",
       "  <tbody>\n",
       "    <tr>\n",
       "      <th>6</th>\n",
       "      <td>Gameweek 7</td>\n",
       "      <td>30</td>\n",
       "      <td>156</td>\n",
       "      <td>126</td>\n",
       "      <td>-19</td>\n",
       "    </tr>\n",
       "    <tr>\n",
       "      <th>32</th>\n",
       "      <td>Gameweek 33</td>\n",
       "      <td>63</td>\n",
       "      <td>167</td>\n",
       "      <td>104</td>\n",
       "      <td>5</td>\n",
       "    </tr>\n",
       "    <tr>\n",
       "      <th>33</th>\n",
       "      <td>Gameweek 34</td>\n",
       "      <td>122</td>\n",
       "      <td>219</td>\n",
       "      <td>97</td>\n",
       "      <td>46</td>\n",
       "    </tr>\n",
       "    <tr>\n",
       "      <th>10</th>\n",
       "      <td>Gameweek 11</td>\n",
       "      <td>22</td>\n",
       "      <td>107</td>\n",
       "      <td>85</td>\n",
       "      <td>-10</td>\n",
       "    </tr>\n",
       "    <tr>\n",
       "      <th>37</th>\n",
       "      <td>Gameweek 38</td>\n",
       "      <td>72</td>\n",
       "      <td>154</td>\n",
       "      <td>82</td>\n",
       "      <td>20</td>\n",
       "    </tr>\n",
       "  </tbody>\n",
       "</table>\n",
       "</div>"
      ],
      "text/plain": [
       "           name  points  highest_score  diff_from_highest  diff_from_avg\n",
       "6    Gameweek 7      30            156                126            -19\n",
       "32  Gameweek 33      63            167                104              5\n",
       "33  Gameweek 34     122            219                 97             46\n",
       "10  Gameweek 11      22            107                 85            -10\n",
       "37  Gameweek 38      72            154                 82             20"
      ]
     },
     "execution_count": 24,
     "metadata": {},
     "output_type": "execute_result"
    }
   ],
   "source": [
    "### pull out max diff from highest score\n",
    "nenes_ballerz['diff_from_highest'] = nenes_ballerz['highest_score'] - nenes_ballerz['points']\n",
    "\n",
    "\n",
    "nenes_ballerz.loc[:,['name','points','highest_score','diff_from_highest','diff_from_avg']].sort_values(by = 'diff_from_highest' ,ascending=False).head()"
   ]
  },
  {
   "cell_type": "code",
   "execution_count": 25,
   "metadata": {},
   "outputs": [
    {
     "data": {
      "text/plain": [
       "count     38.000000\n",
       "mean      65.921053\n",
       "std       16.222076\n",
       "min       42.000000\n",
       "25%       56.750000\n",
       "50%       64.000000\n",
       "75%       70.250000\n",
       "max      126.000000\n",
       "Name: diff_from_highest, dtype: float64"
      ]
     },
     "execution_count": 25,
     "metadata": {},
     "output_type": "execute_result"
    }
   ],
   "source": [
    "### pull some stats on the differences\n",
    "nenes_ballerz['diff_from_highest'].describe()"
   ]
  },
  {
   "cell_type": "markdown",
   "metadata": {},
   "source": [
    "#### Points by Game Week Average"
   ]
  },
  {
   "cell_type": "code",
   "execution_count": 26,
   "metadata": {},
   "outputs": [
    {
     "data": {
      "text/plain": [
       "count    38.000000\n",
       "mean     13.552632\n",
       "std      11.497820\n",
       "min     -19.000000\n",
       "25%       7.500000\n",
       "50%      13.500000\n",
       "75%      19.500000\n",
       "max      46.000000\n",
       "Name: diff_from_avg, dtype: float64"
      ]
     },
     "execution_count": 26,
     "metadata": {},
     "output_type": "execute_result"
    }
   ],
   "source": [
    "### difference from average stats\n",
    "nenes_ballerz['diff_from_avg'].describe()"
   ]
  },
  {
   "cell_type": "code",
   "execution_count": 27,
   "metadata": {},
   "outputs": [
    {
     "data": {
      "text/html": [
       "<div>\n",
       "<style scoped>\n",
       "    .dataframe tbody tr th:only-of-type {\n",
       "        vertical-align: middle;\n",
       "    }\n",
       "\n",
       "    .dataframe tbody tr th {\n",
       "        vertical-align: top;\n",
       "    }\n",
       "\n",
       "    .dataframe thead th {\n",
       "        text-align: right;\n",
       "    }\n",
       "</style>\n",
       "<table border=\"1\" class=\"dataframe\">\n",
       "  <thead>\n",
       "    <tr style=\"text-align: right;\">\n",
       "      <th></th>\n",
       "      <th>points</th>\n",
       "      <th>average_score</th>\n",
       "      <th>name</th>\n",
       "    </tr>\n",
       "  </thead>\n",
       "  <tbody>\n",
       "    <tr>\n",
       "      <th>6</th>\n",
       "      <td>30</td>\n",
       "      <td>49</td>\n",
       "      <td>Gameweek 7</td>\n",
       "    </tr>\n",
       "  </tbody>\n",
       "</table>\n",
       "</div>"
      ],
      "text/plain": [
       "   points  average_score        name\n",
       "6      30             49  Gameweek 7"
      ]
     },
     "execution_count": 27,
     "metadata": {},
     "output_type": "execute_result"
    }
   ],
   "source": [
    "### pull points for min and max difference gameweeks\n",
    "### pull points for worst gameweek vs average score\n",
    "\n",
    "max_negative_dev = nenes_ballerz['diff_from_avg'].min()\n",
    "points_for_gw = nenes_ballerz.loc[nenes_ballerz['diff_from_avg'] == max_negative_dev, ['points', 'average_score','name']]\n",
    "\n",
    "points_for_gw\n"
   ]
  },
  {
   "cell_type": "code",
   "execution_count": 28,
   "metadata": {},
   "outputs": [
    {
     "data": {
      "text/html": [
       "<div>\n",
       "<style scoped>\n",
       "    .dataframe tbody tr th:only-of-type {\n",
       "        vertical-align: middle;\n",
       "    }\n",
       "\n",
       "    .dataframe tbody tr th {\n",
       "        vertical-align: top;\n",
       "    }\n",
       "\n",
       "    .dataframe thead th {\n",
       "        text-align: right;\n",
       "    }\n",
       "</style>\n",
       "<table border=\"1\" class=\"dataframe\">\n",
       "  <thead>\n",
       "    <tr style=\"text-align: right;\">\n",
       "      <th></th>\n",
       "      <th>points</th>\n",
       "      <th>average_score</th>\n",
       "      <th>name</th>\n",
       "    </tr>\n",
       "  </thead>\n",
       "  <tbody>\n",
       "    <tr>\n",
       "      <th>33</th>\n",
       "      <td>122</td>\n",
       "      <td>76</td>\n",
       "      <td>Gameweek 34</td>\n",
       "    </tr>\n",
       "  </tbody>\n",
       "</table>\n",
       "</div>"
      ],
      "text/plain": [
       "    points  average_score         name\n",
       "33     122             76  Gameweek 34"
      ]
     },
     "execution_count": 28,
     "metadata": {},
     "output_type": "execute_result"
    }
   ],
   "source": [
    "### pull points for best gameweek vs average score\n",
    "max_positive_dev = nenes_ballerz['diff_from_avg'].max()\n",
    "points_for_gw = nenes_ballerz.loc[nenes_ballerz['diff_from_avg']==max_positive_dev,['points', 'average_score','name']]\n",
    "\n",
    "points_for_gw"
   ]
  },
  {
   "cell_type": "code",
   "execution_count": 29,
   "metadata": {},
   "outputs": [
    {
     "data": {
      "text/plain": [
       "none        33\n",
       "wildcard     2\n",
       "3xc          1\n",
       "freehit      1\n",
       "bboost       1\n",
       "Name: chip_used, dtype: int64"
      ]
     },
     "execution_count": 29,
     "metadata": {},
     "output_type": "execute_result"
    }
   ],
   "source": [
    "nenes_ballerz['chip_used'].value_counts()"
   ]
  },
  {
   "cell_type": "code",
   "execution_count": 30,
   "metadata": {},
   "outputs": [
    {
     "data": {
      "text/plain": [
       "Text(0, 0.5, 'Points')"
      ]
     },
     "execution_count": 30,
     "metadata": {},
     "output_type": "execute_result"
    },
    {
     "data": {
      "image/png": "[encoded data removed]",
      "text/plain": [
       "<Figure size 1200x700 with 1 Axes>"
      ]
     },
     "metadata": {},
     "output_type": "display_data"
    }
   ],
   "source": [
    "### Plot team points by gameweek average\n",
    "plt.figure(figsize=(12,7))\n",
    "\n",
    "ax = sns.lineplot(data=nenes_ballerz,x='event' ,y='points',color = 'red',linewidth= 3,label = 'Team Points')\n",
    "ax = sns.lineplot(data=nenes_ballerz,x='event',y='average_score',color = 'green',linewidth = 3,label = 'Average GW Points')\n",
    "ax = sns.lineplot(data=nenes_ballerz,x='event',y='highest_score',color = 'blue',linewidth = 3,label = 'Highest GW Points')\n",
    "\n",
    "\n",
    "# Add data labels to the start, mid, and end points\n",
    "x = nenes_ballerz['event']\n",
    "y = nenes_ballerz['points']\n",
    "\n",
    "plt.annotate(f'Start: ({x.iloc[0]}, {y.iloc[0]:,.0f})', xy=(x.iloc[0], y.iloc[0]), xytext=(x.iloc[0], y.iloc[0] + 0))\n",
    "plt.annotate(f'Mid: ({x.iloc[len(x) // 2-1]}, {y.iloc[len(y) // 2-1]:,.0f})', xy=(x.iloc[len(x) // 2-1], y.iloc[len(y) // 2-1]), \n",
    "             xytext=(x.iloc[len(x) // 2-1], y.iloc[len(y) // 2-1] - 15)\n",
    "             )\n",
    "plt.annotate(f'End: ({x.iloc[-1]}, {y.iloc[-1]:,.0f})', xy=(x.iloc[-1], y.iloc[-1]), xytext=(x.iloc[-1], y.iloc[-1] - 10)\n",
    "             )\n",
    "\n",
    "### annotate chip usage\n",
    "chip_events = {'Wildcard':'wildcard','Triple Captain':'3xc','Free Hit':'freehit', 'Bench Boost':'bboost'}\n",
    "for chip_name, chip_event in chip_events.items():\n",
    "    chip_event_data = nenes_ballerz[nenes_ballerz['chip_used']== chip_event]\n",
    "    for i, row in chip_event_data.iterrows():\n",
    "        ax.annotate(chip_name,(row['event'],row['points']),textcoords=\"offset points\", xytext=(-5,5),ha= 'center')\n",
    "\n",
    "\n",
    "plt.legend()\n",
    "ax.set_title('Team Points and Chips by Gameweek Average')\n",
    "ax.set_xlabel('Gameweek')\n",
    "ax.set_ylabel('Points')\n"
   ]
  },
  {
   "cell_type": "markdown",
   "metadata": {},
   "source": [
    "### Findings\n",
    "\n",
    "- To a great extent, Nene's Ballerz mapped a slightly better than average performance, with Gameweek 34 the best performing with a gain of 46 points from the average. Gameweek 7 was the worst performed with a deviance of -19 points off the average and also had the biggest difference from the highest scorer.\n",
    "- The chips usage was beneficial in gunning points from the average, generating an average of 24 positive points.\n",
    "- On average Nene's Ballerz left 8 points on the bench, at game week 23 leaving 31 possible points, which was almost half (46%) the points achieved that gameweek.  \n",
    "\n",
    "- [x] Squad selection offers an opportunity for improvement, with points left on the bench denting the points accumulated in the respective game week as well as the ultimate season points. Chips usage as well as Captain picks (with a 2*multiplier) could have been used more tactfully, but a detailed analysis of the latter is currently out of the scope of this notebook. Similarly, the analysis of league competitors, (best performing global managers as well as in mini-leagues) will be covered in a separate report. While the inclusion of these supporting data points would have offered a wholesome view, it is also wise to consider that all the above results are subject to survivorship bias (Nassim Taleb-Fooled by Randomness). In a different set of circumstances, the above decisions and inputs in my game week events would have yielded totally differently outcomes. Nevertheless, given that the valid game week trend observations, there's a high chance- ceteris paribus, that better decisions in squad selection would have resulted in more points and eventually a better overall rank.  "
   ]
  },
  {
   "cell_type": "code",
   "execution_count": null,
   "metadata": {},
   "outputs": [],
   "source": []
  }
 ],
 "metadata": {
  "kernelspec": {
   "display_name": "Python 3",
   "language": "python",
   "name": "python3"
  },
  "language_info": {
   "codemirror_mode": {
    "name": "ipython",
    "version": 3
   },
   "file_extension": ".py",
   "mimetype": "text/x-python",
   "name": "python",
   "nbconvert_exporter": "python",
   "pygments_lexer": "ipython3",
   "version": "3.11.2"
  }
 },
 "nbformat": 4,
 "nbformat_minor": 2
}
